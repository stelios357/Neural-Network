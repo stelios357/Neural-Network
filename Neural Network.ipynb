{
 "cells": [
  {
   "cell_type": "code",
   "execution_count": 1,
   "metadata": {},
   "outputs": [],
   "source": [
    "import numpy as np\n",
    "import matplotlib.pyplot as plt"
   ]
  },
  {
   "cell_type": "code",
   "execution_count": 2,
   "metadata": {},
   "outputs": [
    {
     "data": {
      "text/plain": [
       "(42000, 785)"
      ]
     },
     "execution_count": 2,
     "metadata": {},
     "output_type": "execute_result"
    }
   ],
   "source": [
    "import pandas as pd\n",
    "dataset = pd.read_csv('/Users/Pratulya/Desktop/machine-learning/bootcamp/mnist_data/train.csv')\n",
    "dataset = dataset.values\n",
    "dataset.shape"
   ]
  },
  {
   "cell_type": "code",
   "execution_count": 63,
   "metadata": {},
   "outputs": [
    {
     "data": {
      "text/plain": [
       "((42000, 784), (42000,))"
      ]
     },
     "execution_count": 63,
     "metadata": {},
     "output_type": "execute_result"
    }
   ],
   "source": [
    "X, y = dataset[:, 1:], dataset[:, 0]\n",
    "X.shape, y.shape"
   ]
  },
  {
   "cell_type": "code",
   "execution_count": 64,
   "metadata": {},
   "outputs": [
    {
     "data": {
      "text/plain": [
       "array([1, 0, 1, ..., 7, 6, 9])"
      ]
     },
     "execution_count": 64,
     "metadata": {},
     "output_type": "execute_result"
    }
   ],
   "source": [
    "y"
   ]
  },
  {
   "cell_type": "code",
   "execution_count": 65,
   "metadata": {},
   "outputs": [],
   "source": [
    "# Min-Max Scaler\n",
    "\n",
    "X = (X - X.min()) / (X.max() - X.min())"
   ]
  },
  {
   "cell_type": "code",
   "execution_count": 75,
   "metadata": {},
   "outputs": [],
   "source": [
    "class NeuralNetwork:\n",
    "    \n",
    "    def __init__(self, X, y):\n",
    "        self.X = (X - X.min()) / (X.max() - X.min()) \n",
    "        self.y = y\n",
    "        self.H1_size = 256\n",
    "        self.H2_size = 64\n",
    "        self.OUTPUT_SIZE = len(np.unique(y))\n",
    "        self.INPUT_SIZE = X.shape[1]\n",
    "        self.losses = []\n",
    "        \n",
    "        # Initialize weights\n",
    "        self.W1 = np.random.randn(self.INPUT_SIZE, self.H1_size)\n",
    "        self.W2 = np.random.randn(self.H1_size, self.H2_size)\n",
    "        self.W3 = np.random.randn(self.H2_size, self.OUTPUT_SIZE)\n",
    "        \n",
    "        # Initialize biases\n",
    "        self.b1 = np.random.random((1, self.H1_size))\n",
    "        self.b2 = np.random.random((1, self.H2_size))\n",
    "        self.b3 = np.random.random((1, self.OUTPUT_SIZE))\n",
    "    \n",
    "    def sigmoid(self, z):\n",
    "        return 1 / (1 + np.exp(-z))\n",
    "    \n",
    "    def sigmoid_prime(self, z):\n",
    "        s = self.sigmoid(z)\n",
    "        return s * (1 - s)\n",
    "    \n",
    "    def softmax(self, z):\n",
    "        return np.exp(z) / np.sum(np.exp(z), axis=1, keepdims=True)\n",
    "    \n",
    "    def forward(self, x):\n",
    "        Z1   = x.dot(self.W1) + self.b1 # (N,256) = (N,784)(784,256)(1,256)\n",
    "        A1   = self.sigmoid(Z1)\n",
    "        Z2   = A1.dot(self.W2) + self.b2\n",
    "        A2   = self.sigmoid(Z2)\n",
    "        Z3   = A2.dot(self.W3) + self.b3\n",
    "        yhat = self.softmax(Z3)\n",
    "        \n",
    "        self.activations = [A1, A2, yhat]\n",
    "        \n",
    "        return yhat\n",
    "    \n",
    "    def backprop(self, x, y, yhat, learning_rate=0.01):\n",
    "        \n",
    "        A1, A2, yhat = self.activations\n",
    "        \n",
    "        # Compute Gradients\n",
    "        delta3 = yhat - y\n",
    "        dldw3  = A2.T.dot(delta3)\n",
    "        dldb3  = delta3.sum(axis=0, keepdims=True)\n",
    "        \n",
    "        delta2 = delta3.dot(self.W3.T) * (A2 * (1 - A2))\n",
    "        dldw2  = A1.T.dot(delta2)\n",
    "        dldb2  = delta2.sum(axis=0, keepdims=True)\n",
    "    \n",
    "        delta1 = delta2.dot(self.W2.T) * (A1 * (1 - A1))\n",
    "        dldw1  = x.T.dot(delta1)\n",
    "        dldb1  = delta1.sum(axis=0, keepdims=True)\n",
    "\n",
    "        # Update Weights\n",
    "        self.W3 -= dldw3 * learning_rate\n",
    "        self.b3 -= dldb3 * learning_rate\n",
    "        \n",
    "        self.W2 -= dldw2 * learning_rate\n",
    "        self.b2 -= dldb2 * learning_rate\n",
    "        \n",
    "        self.W1 -= dldw1 * learning_rate\n",
    "        self.b1 -= dldb1 * learning_rate\n",
    "        \n",
    "    def get_predictions(self, test):\n",
    "        yhat = self.forward(test)\n",
    "        preds = np.argmax(yhat, axis=1)\n",
    "        return preds\n",
    "    \n",
    "    def accuracy(self, preds, true_labels):\n",
    "        return (preds == true_labels).mean()\n",
    "    \n",
    "    def get_one_hot_vectors(self, labels):\n",
    "        klasses = len(np.unique(labels))\n",
    "        vectors = np.zeros((labels.shape[0], klasses))\n",
    "        for i,l in enumerate(labels):\n",
    "            vectors[i,l] = 1\n",
    "        return vectors\n",
    "    \n",
    "    def compute_loss(self, y, yhat):\n",
    "        # L = -E[y log(yhat)]\n",
    "        return -np.sum(y * np.log(yhat))\n",
    "    \n",
    "    def train(self, learning_rate=0.01, epochs=10, batch_size=128):\n",
    "        y_one_hot_vector = self.get_one_hot_vectors(self.y)\n",
    "\n",
    "        for e in range(epochs):\n",
    "            size = 0\n",
    "            while size + batch_size < self.X.shape[0]:\n",
    "                x_batch = self.X[size : size + batch_size]\n",
    "                y_batch = self.y[size : size + batch_size]\n",
    "                size += batch_size\n",
    "\n",
    "                y_batch_one_hot = self.get_one_hot_vectors(y_batch)\n",
    "                yhat_batch = self.forward(x_batch)\n",
    "                self.backprop(x_batch, y_batch_one_hot, yhat_batch, learning_rate)\n",
    "\n",
    "            yhat = self.forward(self.X)\n",
    "            self.losses.append(self.compute_loss(y_one_hot_vector, yhat))\n",
    "            print(\"Loss at Epoch [{}]: {}\".format(e, self.losses[-1]))\n",
    "\n",
    "\n",
    "    "
   ]
  },
  {
   "cell_type": "code",
   "execution_count": 76,
   "metadata": {},
   "outputs": [
    {
     "data": {
      "text/plain": [
       "((33600, 784), (8400, 784), (33600,), (8400,))"
      ]
     },
     "execution_count": 76,
     "metadata": {},
     "output_type": "execute_result"
    }
   ],
   "source": [
    "from sklearn.model_selection import train_test_split\n",
    "\n",
    "X_train, X_test, y_train, y_test = train_test_split(X, y, test_size=0.2)\n",
    "X_train.shape, X_test.shape, y_train.shape, y_test.shape"
   ]
  },
  {
   "cell_type": "code",
   "execution_count": 83,
   "metadata": {},
   "outputs": [],
   "source": [
    "nn = NeuralNetwork(X_train, y_train)"
   ]
  },
  {
   "cell_type": "code",
   "execution_count": 84,
   "metadata": {},
   "outputs": [
    {
     "data": {
      "text/plain": [
       "(784, 256, 64, 10)"
      ]
     },
     "execution_count": 84,
     "metadata": {},
     "output_type": "execute_result"
    }
   ],
   "source": [
    "nn.INPUT_SIZE, nn.H1_size, nn.H2_size, nn.OUTPUT_SIZE"
   ]
  },
  {
   "cell_type": "code",
   "execution_count": 85,
   "metadata": {},
   "outputs": [
    {
     "name": "stdout",
     "output_type": "stream",
     "text": [
      "First Loss:  244732.79398527896\n"
     ]
    }
   ],
   "source": [
    "print(\"First Loss: \", nn.compute_loss(nn.get_one_hot_vectors(nn.y), nn.forward(nn.X)))"
   ]
  },
  {
   "cell_type": "code",
   "execution_count": 86,
   "metadata": {},
   "outputs": [
    {
     "name": "stdout",
     "output_type": "stream",
     "text": [
      "Loss at Epoch [0]: 16549.105115758346\n",
      "Loss at Epoch [1]: 11137.655072040721\n",
      "Loss at Epoch [2]: 9047.579270383438\n",
      "Loss at Epoch [3]: 7758.222511254607\n",
      "Loss at Epoch [4]: 6887.466820475377\n",
      "Loss at Epoch [5]: 6181.900570270475\n",
      "Loss at Epoch [6]: 5560.948912811911\n",
      "Loss at Epoch [7]: 5032.9763391953275\n",
      "Loss at Epoch [8]: 4559.605878339384\n",
      "Loss at Epoch [9]: 4148.386498990363\n",
      "Loss at Epoch [10]: 3790.454728247953\n",
      "Loss at Epoch [11]: 3478.669716575026\n",
      "Loss at Epoch [12]: 3212.2273073463\n",
      "Loss at Epoch [13]: 2960.487798722305\n",
      "Loss at Epoch [14]: 2724.775782953704\n",
      "Loss at Epoch [15]: 2502.741460704098\n",
      "Loss at Epoch [16]: 2303.007161958728\n",
      "Loss at Epoch [17]: 2124.073670061039\n",
      "Loss at Epoch [18]: 1962.1694172564166\n",
      "Loss at Epoch [19]: 1813.312940293968\n"
     ]
    }
   ],
   "source": [
    "nn.train(learning_rate=0.01, epochs=20, batch_size=128)"
   ]
  },
  {
   "cell_type": "code",
   "execution_count": 87,
   "metadata": {},
   "outputs": [
    {
     "data": {
      "image/png": "[encoded data removed]",
      "text/plain": [
       "<Figure size 432x288 with 1 Axes>"
      ]
     },
     "metadata": {
      "needs_background": "light"
     },
     "output_type": "display_data"
    }
   ],
   "source": [
    "plt.figure()\n",
    "plt.plot(nn.losses)\n",
    "plt.show()"
   ]
  },
  {
   "cell_type": "code",
   "execution_count": 88,
   "metadata": {},
   "outputs": [
    {
     "name": "stdout",
     "output_type": "stream",
     "text": [
      "Testing Acc:  0.9280952380952381\n",
      "Training Acc: 0.9854464285714286\n"
     ]
    }
   ],
   "source": [
    "preds = nn.get_predictions(X_test)\n",
    "print(\"Testing Acc: \", nn.accuracy(preds, y_test))\n",
    "\n",
    "train_preds = nn.get_predictions(X_train)\n",
    "print(\"Training Acc:\", nn.accuracy(train_preds, y_train))"
   ]
  },
  {
   "cell_type": "code",
   "execution_count": null,
   "metadata": {},
   "outputs": [],
   "source": []
  }
 ],
 "metadata": {
  "kernelspec": {
   "display_name": "Python 3",
   "language": "python",
   "name": "python3"
  },
  "language_info": {
   "codemirror_mode": {
    "name": "ipython",
    "version": 3
   },
   "file_extension": ".py",
   "mimetype": "text/x-python",
   "name": "python",
   "nbconvert_exporter": "python",
   "pygments_lexer": "ipython3",
   "version": "3.7.0"
  }
 },
 "nbformat": 4,
 "nbformat_minor": 2
}
